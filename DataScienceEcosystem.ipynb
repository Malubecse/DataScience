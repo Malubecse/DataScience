{
 "cells": [
  {
   "cell_type": "markdown",
   "id": "db605e3e-efa2-43d9-a7fd-45b4471b5eb9",
   "metadata": {},
   "source": [
    "# Data Science Tools and Ecosystem"
   ]
  },
  {
   "cell_type": "markdown",
   "id": "d278bcd6-1fb8-4bcc-b8e3-1eeb59b4d754",
   "metadata": {},
   "source": [
    "In this notebook, Data Science Tools and Ecosystem are summarized."
   ]
  },
  {
   "cell_type": "markdown",
   "id": "46c63a9e-6b1d-496c-9ce0-1762f683cdd2",
   "metadata": {},
   "source": [
    "**Objectives:**\n",
    "List popular languages for Data Science\n",
    "* Python\n",
    "* R\n",
    "* Julia\n",
    "* Scala"
   ]
  },
  {
   "cell_type": "markdown",
   "id": "8edb7cff-6174-4144-9bf5-7fcd159174ad",
   "metadata": {},
   "source": [
    "Some of the popular languages that Data Scientists use are:\n",
    "1. Python\n",
    "2. R\n",
    "3. Julia\n",
    "4. Scala\n",
    "5. Js"
   ]
  },
  {
   "cell_type": "markdown",
   "id": "36bf807f-b72c-47f0-b8e7-281fc162158f",
   "metadata": {},
   "source": [
    "Some of the commonly used libraries used by Data Scientists include:\n",
    "1. Pandas\n",
    "2. Matplotlib\n",
    "3. Scikit-learn\n",
    "4. Numpy\n",
    "5. ggplot"
   ]
  },
  {
   "cell_type": "markdown",
   "id": "83442afa-4b65-461b-a544-b6fd8ee192c1",
   "metadata": {},
   "source": [
    "**Data Science Tools**\n",
    "\n",
    "| Development Environment | Open Source Tools |\n",
    "| ----------------------- | ------------------ |\n",
    "| Data Management | MySQL|\n",
    "| Operating System | Jupyter |\n",
    "| Data Integration | Airflow |\n",
    "| Data Visualization | Kibana |\n",
    "| Model Deployment | TensorFLow.js |\n",
    "| Model Monitoring | Model DB |\n"
   ]
  },
  {
   "cell_type": "markdown",
   "id": "03bbc192-c21c-4ccd-891f-f40cf368c859",
   "metadata": {},
   "source": [
    "### Below are a few examples of evaluating arithmetic expressions in Python"
   ]
  },
  {
   "cell_type": "code",
   "execution_count": 1,
   "id": "828f0305-43d3-49bb-a7e9-5b2724a0e9e6",
   "metadata": {
    "tags": []
   },
   "outputs": [
    {
     "data": {
      "text/plain": [
       "17"
      ]
     },
     "execution_count": 1,
     "metadata": {},
     "output_type": "execute_result"
    }
   ],
   "source": [
    "# This a simple arithmetic expression to mutiply then add integers\n",
    "(3*4)+5"
   ]
  },
  {
   "cell_type": "code",
   "execution_count": 2,
   "id": "d8d06bc0-1ad9-426d-99cc-ab4835e2acd4",
   "metadata": {
    "tags": []
   },
   "outputs": [
    {
     "data": {
      "text/plain": [
       "3.3333333333333335"
      ]
     },
     "execution_count": 2,
     "metadata": {},
     "output_type": "execute_result"
    }
   ],
   "source": [
    "# This will convert 200 minutes to hours by diving by 60\n",
    "200/60"
   ]
  },
  {
   "cell_type": "markdown",
   "id": "fc73015d-b8fa-4027-b19b-16fa332be2f8",
   "metadata": {},
   "source": [
    "## Author\n",
    "Malathy Chenniappan"
   ]
  }
 ],
 "metadata": {
  "kernelspec": {
   "display_name": "Python",
   "language": "python",
   "name": "conda-env-python-py"
  },
  "language_info": {
   "codemirror_mode": {
    "name": "ipython",
    "version": 3
   },
   "file_extension": ".py",
   "mimetype": "text/x-python",
   "name": "python",
   "nbconvert_exporter": "python",
   "pygments_lexer": "ipython3",
   "version": "3.7.12"
  }
 },
 "nbformat": 4,
 "nbformat_minor": 5
}
